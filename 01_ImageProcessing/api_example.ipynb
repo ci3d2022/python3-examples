{
 "cells": [
  {
   "cell_type": "code",
   "execution_count": 1,
   "id": "9f5fe5c2-2bd6-422f-a6db-e4913e42c296",
   "metadata": {},
   "outputs": [],
   "source": [
    "import useful_api.imgproc as imp"
   ]
  },
  {
   "cell_type": "code",
   "execution_count": 2,
   "id": "7ae1582a-156e-4316-ae6a-085a8b92845b",
   "metadata": {},
   "outputs": [
    {
     "name": "stderr",
     "output_type": "stream",
     "text": [
      "E:\\Common\\Document\\PythonScripts\\20211228-image_processing\\useful_api\\imgproc.py:16: UserWarning: \n",
      "Can not load \"img/Ch01/many_imgs/.ipynb_checkpoints\"\n",
      "  warnings.warn('\\nCan not load \\\"' + folder_path + filename + '\\\"', stacklevel=0, source=None)\n"
     ]
    }
   ],
   "source": [
    "fp = 'img/Ch01/many_imgs'\n",
    "\n",
    "img = imp.loadFromFolder(fp)"
   ]
  }
 ],
 "metadata": {
  "kernelspec": {
   "display_name": "Tensorflow 2.7 (Python 3.8)",
   "language": "python",
   "name": "tf"
  },
  "language_info": {
   "codemirror_mode": {
    "name": "ipython",
    "version": 3
   },
   "file_extension": ".py",
   "mimetype": "text/x-python",
   "name": "python",
   "nbconvert_exporter": "python",
   "pygments_lexer": "ipython3",
   "version": "3.8.12"
  }
 },
 "nbformat": 4,
 "nbformat_minor": 5
}
